{
 "cells": [
  {
   "cell_type": "code",
   "execution_count": 9,
   "metadata": {},
   "outputs": [
    {
     "name": "stdout",
     "output_type": "stream",
     "text": [
      "Requirement already satisfied: torch in /Users/shuai/anaconda3/lib/python3.11/site-packages (2.1.0)\n",
      "Requirement already satisfied: filelock in /Users/shuai/anaconda3/lib/python3.11/site-packages (from torch) (3.9.0)\n",
      "Requirement already satisfied: typing-extensions in /Users/shuai/anaconda3/lib/python3.11/site-packages (from torch) (4.9.0)\n",
      "Requirement already satisfied: sympy in /Users/shuai/anaconda3/lib/python3.11/site-packages (from torch) (1.11.1)\n",
      "Requirement already satisfied: networkx in /Users/shuai/anaconda3/lib/python3.11/site-packages (from torch) (3.1)\n",
      "Requirement already satisfied: jinja2 in /Users/shuai/anaconda3/lib/python3.11/site-packages (from torch) (3.1.2)\n",
      "Requirement already satisfied: fsspec in /Users/shuai/anaconda3/lib/python3.11/site-packages (from torch) (2023.4.0)\n",
      "Requirement already satisfied: MarkupSafe>=2.0 in /Users/shuai/anaconda3/lib/python3.11/site-packages (from jinja2->torch) (2.1.1)\n",
      "Requirement already satisfied: mpmath>=0.19 in /Users/shuai/anaconda3/lib/python3.11/site-packages (from sympy->torch) (1.3.0)\n"
     ]
    }
   ],
   "source": [
    "! pip install torch"
   ]
  },
  {
   "cell_type": "code",
   "execution_count": 4,
   "metadata": {},
   "outputs": [],
   "source": [
    "import os\n",
    "from torchvision import datasets, transforms\n",
    "from torch.utils.data import ConcatDataset, DataLoader\n",
    "from torchvision.utils import save_image\n",
    "\n",
    "class ImageDataHandler:\n",
    "    def __init__(self, image_height, image_width, train_data_path, val_data_path, train_save_dir, val_save_dir):\n",
    "        self.image_height = image_height\n",
    "        self.image_width = image_width\n",
    "        self.train_data_path = train_data_path\n",
    "        self.val_data_path = val_data_path\n",
    "        self.train_save_dir = train_save_dir\n",
    "        self.val_save_dir = val_save_dir\n",
    "\n",
    "        # Create directories for saving images\n",
    "        os.makedirs(train_save_dir, exist_ok=True)\n",
    "        os.makedirs(val_save_dir, exist_ok=True)\n",
    "\n",
    "        # Initialize transformations\n",
    "        self.init_transforms()\n",
    "\n",
    "        # Load datasets\n",
    "        self.train_dataset = self.create_concat_dataset(train_data_path, self.train_transforms)\n",
    "        self.val_dataset = self.create_concat_dataset(val_data_path, self.val_transforms)\n",
    "\n",
    "        # Create DataLoaders\n",
    "        self.train_loader = DataLoader(self.train_dataset, batch_size=32, shuffle=True)\n",
    "        self.val_loader = DataLoader(self.val_dataset, batch_size=32, shuffle=False)\n",
    "\n",
    "    def init_transforms(self):\n",
    "        # Define your transformations here\n",
    "        self.train_transforms = [\n",
    "            transforms.Compose([transforms.Resize((self.image_height, self.image_width)), transforms.ToTensor()]),\n",
    "            # Add other transformations as needed\n",
    "        ]\n",
    "\n",
    "        self.val_transforms = [\n",
    "            transforms.Compose([transforms.Resize((self.image_height, self.image_width)), transforms.ToTensor()]),\n",
    "            # Add other transformations as needed\n",
    "        ]\n",
    "\n",
    "    def create_concat_dataset(self, data_path, transforms_list):\n",
    "        dataset_list = [datasets.ImageFolder(root=data_path, transform=transform) for transform in transforms_list]\n",
    "        return ConcatDataset(dataset_list)\n",
    "\n",
    "    def save_dataset(self, dataset, save_dir, prefix='image'):\n",
    "        for i, (image, label) in enumerate(dataset):\n",
    "            image_path = os.path.join(save_dir, f\"{prefix}_{i}_label_{label}.jpg\")\n",
    "            save_image(image, image_path)\n",
    "\n",
    "# Usage\n",
    "image_height, image_width = 224, 224\n",
    "train_data_path = '/Users/shuai/Desktop/data/train/'\n",
    "val_data_path = '/Users/shuai/Desktop/data/val/'\n",
    "train_save_dir = '/Users/shuai/Desktop/data/train_tf'\n",
    "val_save_dir = '/Users/shuai/Desktop/data/val_tf'\n",
    "\n",
    "data_handler = ImageDataHandler(image_height, image_width, train_data_path, val_data_path, train_save_dir, val_save_dir)\n",
    "\n",
    "# Now you can use the data loaders\n",
    "# for images, labels in data_handler.train_loader:\n",
    "#     # Your training loop here\n",
    "\n",
    "# Save transformed images\n",
    "data_handler.save_dataset(data_handler.train_dataset, data_handler.train_save_dir, prefix='train')\n",
    "data_handler.save_dataset(data_handler.val_dataset, data_handler.val_save_dir, prefix='val')\n"
   ]
  }
 ],
 "metadata": {
  "kernelspec": {
   "display_name": "Python 3",
   "language": "python",
   "name": "python3"
  },
  "language_info": {
   "codemirror_mode": {
    "name": "ipython",
    "version": 3
   },
   "file_extension": ".py",
   "mimetype": "text/x-python",
   "name": "python",
   "nbconvert_exporter": "python",
   "pygments_lexer": "ipython3",
   "version": "3.1.0"
  }
 },
 "nbformat": 4,
 "nbformat_minor": 2
}

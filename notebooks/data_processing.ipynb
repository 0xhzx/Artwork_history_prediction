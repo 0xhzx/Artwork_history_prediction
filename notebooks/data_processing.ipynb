{
 "cells": [
  {
   "cell_type": "code",
   "execution_count": 10,
   "metadata": {},
   "outputs": [
    {
     "ename": "OSError",
     "evalue": "[Errno 30] Read-only file system: 'art_label.csv'",
     "output_type": "error",
     "traceback": [
      "\u001b[0;31m---------------------------------------------------------------------------\u001b[0m",
      "\u001b[0;31mOSError\u001b[0m                                   Traceback (most recent call last)",
      "\u001b[1;32mUntitled-1.ipynb Cell 1\u001b[0m line \u001b[0;36m2\n\u001b[1;32m     <a href='vscode-notebook-cell:Untitled-1.ipynb?jupyter-notebook#W0sdW50aXRsZWQ%3D?line=23'>24</a>\u001b[0m     cleaned_filename \u001b[39m=\u001b[39m \u001b[39m'\u001b[39m\u001b[39m'\u001b[39m\u001b[39m.\u001b[39mjoin(c \u001b[39mfor\u001b[39;00m c \u001b[39min\u001b[39;00m filename \u001b[39mif\u001b[39;00m c \u001b[39min\u001b[39;00m valid_chars)\n\u001b[1;32m     <a href='vscode-notebook-cell:Untitled-1.ipynb?jupyter-notebook#W0sdW50aXRsZWQ%3D?line=24'>25</a>\u001b[0m     \u001b[39mreturn\u001b[39;00m cleaned_filename\n\u001b[0;32m---> <a href='vscode-notebook-cell:Untitled-1.ipynb?jupyter-notebook#W0sdW50aXRsZWQ%3D?line=26'>27</a>\u001b[0m \u001b[39mwith\u001b[39;00m \u001b[39mopen\u001b[39;49m(csv_label, \u001b[39m\"\u001b[39;49m\u001b[39mw\u001b[39;49m\u001b[39m\"\u001b[39;49m, newline\u001b[39m=\u001b[39;49m\u001b[39m\"\u001b[39;49m\u001b[39m\"\u001b[39;49m, encoding\u001b[39m=\u001b[39;49m\u001b[39m\"\u001b[39;49m\u001b[39mutf-8\u001b[39;49m\u001b[39m\"\u001b[39;49m) \u001b[39mas\u001b[39;00m file:\n\u001b[1;32m     <a href='vscode-notebook-cell:Untitled-1.ipynb?jupyter-notebook#W0sdW50aXRsZWQ%3D?line=27'>28</a>\u001b[0m     writer \u001b[39m=\u001b[39m csv\u001b[39m.\u001b[39mwriter(file)\n\u001b[1;32m     <a href='vscode-notebook-cell:Untitled-1.ipynb?jupyter-notebook#W0sdW50aXRsZWQ%3D?line=28'>29</a>\u001b[0m     writer\u001b[39m.\u001b[39mwriterow(\n\u001b[1;32m     <a href='vscode-notebook-cell:Untitled-1.ipynb?jupyter-notebook#W0sdW50aXRsZWQ%3D?line=29'>30</a>\u001b[0m             [\n\u001b[1;32m     <a href='vscode-notebook-cell:Untitled-1.ipynb?jupyter-notebook#W0sdW50aXRsZWQ%3D?line=30'>31</a>\u001b[0m                     \u001b[39m\"\u001b[39m\u001b[39mfilename\u001b[39m\u001b[39m\"\u001b[39m,\n\u001b[1;32m     <a href='vscode-notebook-cell:Untitled-1.ipynb?jupyter-notebook#W0sdW50aXRsZWQ%3D?line=31'>32</a>\u001b[0m                     \u001b[39m\"\u001b[39m\u001b[39myear\u001b[39m\u001b[39m\"\u001b[39m\n\u001b[1;32m     <a href='vscode-notebook-cell:Untitled-1.ipynb?jupyter-notebook#W0sdW50aXRsZWQ%3D?line=32'>33</a>\u001b[0m             ]\n\u001b[1;32m     <a href='vscode-notebook-cell:Untitled-1.ipynb?jupyter-notebook#W0sdW50aXRsZWQ%3D?line=33'>34</a>\u001b[0m     )\n",
      "File \u001b[0;32m~/Library/Python/3.12/lib/python/site-packages/IPython/core/interactiveshell.py:286\u001b[0m, in \u001b[0;36m_modified_open\u001b[0;34m(file, *args, **kwargs)\u001b[0m\n\u001b[1;32m    279\u001b[0m \u001b[39mif\u001b[39;00m file \u001b[39min\u001b[39;00m {\u001b[39m0\u001b[39m, \u001b[39m1\u001b[39m, \u001b[39m2\u001b[39m}:\n\u001b[1;32m    280\u001b[0m     \u001b[39mraise\u001b[39;00m \u001b[39mValueError\u001b[39;00m(\n\u001b[1;32m    281\u001b[0m         \u001b[39mf\u001b[39m\u001b[39m\"\u001b[39m\u001b[39mIPython won\u001b[39m\u001b[39m'\u001b[39m\u001b[39mt let you open fd=\u001b[39m\u001b[39m{\u001b[39;00mfile\u001b[39m}\u001b[39;00m\u001b[39m by default \u001b[39m\u001b[39m\"\u001b[39m\n\u001b[1;32m    282\u001b[0m         \u001b[39m\"\u001b[39m\u001b[39mas it is likely to crash IPython. If you know what you are doing, \u001b[39m\u001b[39m\"\u001b[39m\n\u001b[1;32m    283\u001b[0m         \u001b[39m\"\u001b[39m\u001b[39myou can use builtins\u001b[39m\u001b[39m'\u001b[39m\u001b[39m open.\u001b[39m\u001b[39m\"\u001b[39m\n\u001b[1;32m    284\u001b[0m     )\n\u001b[0;32m--> 286\u001b[0m \u001b[39mreturn\u001b[39;00m io_open(file, \u001b[39m*\u001b[39;49margs, \u001b[39m*\u001b[39;49m\u001b[39m*\u001b[39;49mkwargs)\n",
      "\u001b[0;31mOSError\u001b[0m: [Errno 30] Read-only file system: 'art_label.csv'"
     ]
    }
   ],
   "source": [
    "import pandas as pd\n",
    "import requests\n",
    "import os\n",
    "import string\n",
    "\n",
    "import csv\n",
    "\n",
    "# Load the CSV file\n",
    "csv_file_path = '/Users/shuai/Desktop/final_arts_info.csv'\n",
    "df = pd.read_csv(csv_file_path)\n",
    "\n",
    "csv_label = \"art_label.csv\"\n",
    "\n",
    "# Specify a directory to save the images\n",
    "# save_directory = '/Users/shuai/Desktop/images/'  # Change this to a directory where you have write access\n",
    "\n",
    "# Create the directory if it doesn't exist\n",
    "# if not os.path.exists(save_directory):\n",
    "#     os.makedirs(save_directory)\n",
    "\n",
    "# Function to clean and create a valid filename\n",
    "def clean_filename(filename):\n",
    "    valid_chars = \"-_() %s%s\" % (string.ascii_letters, string.digits)\n",
    "    cleaned_filename = ''.join(c for c in filename if c in valid_chars)\n",
    "    return cleaned_filename\n",
    "\n",
    "with open(csv_label, \"w\", newline=\"\", encoding=\"utf-8\") as file:\n",
    "    writer = csv.writer(file)\n",
    "    writer.writerow(\n",
    "            [\n",
    "                    \"filename\",\n",
    "                    \"year\"\n",
    "            ]\n",
    "    )\n",
    "\n",
    "# Iterate over each row in the DataFrame\n",
    "    for index, row in df.iterrows():\n",
    "        url = row['link']\n",
    "        year = str(row['year'])  # Convert year to string\n",
    "        # Construct the filename using index and cleaned year\n",
    "        filename = f\"image_{index}_{clean_filename(year)}.jpg\"  # Assuming the image format is jpg\n",
    "        year_cleaned = clean_filename(year)[-4:].strip()\n",
    "\n",
    "        print(\"filename: \", filename, \"year: \", year_cleaned)\n",
    "\n",
    "        writer.writerow(\n",
    "            [\n",
    "                filename,\n",
    "                year_cleaned\n",
    "            ]\n",
    "        )\n",
    "    "
   ]
  },
  {
   "cell_type": "code",
   "execution_count": 6,
   "metadata": {},
   "outputs": [],
   "source": [
    "import csv\n",
    "import json\n",
    "\n",
    "def csv_to_jsonl(csv_file, jsonl_file):\n",
    "    with open(csv_file, 'r', newline='') as csvfile:\n",
    "        reader = csv.DictReader(csvfile)\n",
    "        with open(jsonl_file, 'w') as jsonlfile:\n",
    "            for row in reader:\n",
    "                json.dump(row, jsonlfile)\n",
    "                jsonlfile.write('\\n')\n",
    "\n",
    "# Example usage:\n",
    "csv_to_jsonl('final_art_label.csv', 'final_art_label.jsonl')\n"
   ]
  },
  {
   "cell_type": "code",
   "execution_count": 9,
   "metadata": {},
   "outputs": [
    {
     "name": "stdout",
     "output_type": "stream",
     "text": [
      "完成修改并生成新的JSONL文件。\n"
     ]
    }
   ],
   "source": [
    "# 输入和输出文件路径\n",
    "input_file_path = 'final_art_label.jsonl'\n",
    "output_file_path = 'final_art_label_1.jsonl'\n",
    "\n",
    "# 打开原始JSONL文件和新文件\n",
    "with open(input_file_path, 'r', encoding='utf-8') as input_file, \\\n",
    "     open(output_file_path, 'w', encoding='utf-8') as output_file:\n",
    "    # 逐行读取和处理每个JSON对象\n",
    "    for line in input_file:\n",
    "        # 将当前行转换为字典\n",
    "        data = json.loads(line)\n",
    "        # 修改属性名对应的值，添加前缀，并改变属性名\n",
    "        if 'filename' in data:\n",
    "            data['file_name'] = 'images/' + data.pop('filename')\n",
    "            data['label'] = data.pop('year')\n",
    "        # 将修改后的字典转换回JSON字符串，并写入新文件\n",
    "        output_file.write(json.dumps(data) + '\\n')\n",
    "print(\"完成修改并生成新的JSONL文件。\")"
   ]
  },
  {
   "cell_type": "code",
   "execution_count": 10,
   "metadata": {},
   "outputs": [],
   "source": [
    "import pandas as pd\n",
    "import os\n",
    "from PIL import Image\n",
    "import io\n",
    "\n",
    "\n",
    "def image_to_bytes(image_path):\n",
    "    try:\n",
    "        with Image.open(image_path) as img:\n",
    "            byte_arr = io.BytesIO()\n",
    "            img.save(byte_arr, format=img.format)\n",
    "            return byte_arr.getvalue()\n",
    "    except:\n",
    "        pass\n",
    "# 假设DataFrame中有一个名为'file_path'的列包含图片路径\n",
    "metadata_df = pd.read_json('final_art_label_1.jsonl', lines=True)\n",
    "metadata_df['image_data'] = metadata_df['file_name'].apply(image_to_bytes)\n",
    "\n",
    "\n",
    "import pyarrow as pa\n",
    "import pyarrow.parquet as pq\n",
    "metadata_df.to_parquet('final_art_data.parquet', index=False)"
   ]
  },
  {
   "cell_type": "code",
   "execution_count": null,
   "metadata": {},
   "outputs": [],
   "source": []
  }
 ],
 "metadata": {
  "kernelspec": {
   "display_name": "Python 3",
   "language": "python",
   "name": "python3"
  },
  "language_info": {
   "codemirror_mode": {
    "name": "ipython",
    "version": 3
   },
   "file_extension": ".py",
   "mimetype": "text/x-python",
   "name": "python",
   "nbconvert_exporter": "python",
   "pygments_lexer": "ipython3",
   "version": "3.8.13"
  }
 },
 "nbformat": 4,
 "nbformat_minor": 2
}

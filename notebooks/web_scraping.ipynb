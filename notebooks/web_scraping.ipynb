{
 "cells": [
  {
   "cell_type": "code",
   "execution_count": 1,
   "metadata": {},
   "outputs": [
    {
     "name": "stdout",
     "output_type": "stream",
     "text": [
      "Requirement already satisfied: selenium in ./anaconda3/lib/python3.11/site-packages (4.17.2)\n",
      "Requirement already satisfied: urllib3[socks]<3,>=1.26 in ./anaconda3/lib/python3.11/site-packages (from selenium) (1.26.16)\n",
      "Requirement already satisfied: trio~=0.17 in ./anaconda3/lib/python3.11/site-packages (from selenium) (0.24.0)\n",
      "Requirement already satisfied: trio-websocket~=0.9 in ./anaconda3/lib/python3.11/site-packages (from selenium) (0.11.1)\n",
      "Requirement already satisfied: certifi>=2021.10.8 in ./anaconda3/lib/python3.11/site-packages (from selenium) (2023.7.22)\n",
      "Requirement already satisfied: typing_extensions>=4.9.0 in ./anaconda3/lib/python3.11/site-packages (from selenium) (4.9.0)\n",
      "Requirement already satisfied: attrs>=20.1.0 in ./anaconda3/lib/python3.11/site-packages (from trio~=0.17->selenium) (22.1.0)\n",
      "Requirement already satisfied: sortedcontainers in ./anaconda3/lib/python3.11/site-packages (from trio~=0.17->selenium) (2.4.0)\n",
      "Requirement already satisfied: idna in ./anaconda3/lib/python3.11/site-packages (from trio~=0.17->selenium) (3.4)\n",
      "Requirement already satisfied: outcome in ./anaconda3/lib/python3.11/site-packages (from trio~=0.17->selenium) (1.3.0.post0)\n",
      "Requirement already satisfied: sniffio>=1.3.0 in ./anaconda3/lib/python3.11/site-packages (from trio~=0.17->selenium) (1.3.0)\n",
      "Requirement already satisfied: wsproto>=0.14 in ./anaconda3/lib/python3.11/site-packages (from trio-websocket~=0.9->selenium) (1.2.0)\n",
      "Requirement already satisfied: PySocks!=1.5.7,<2.0,>=1.5.6 in ./anaconda3/lib/python3.11/site-packages (from urllib3[socks]<3,>=1.26->selenium) (1.7.1)\n",
      "Requirement already satisfied: h11<1,>=0.9.0 in ./anaconda3/lib/python3.11/site-packages (from wsproto>=0.14->trio-websocket~=0.9->selenium) (0.14.0)\n"
     ]
    }
   ],
   "source": [
    "!pip install selenium"
   ]
  },
  {
   "cell_type": "code",
   "execution_count": 2,
   "metadata": {},
   "outputs": [
    {
     "name": "stdout",
     "output_type": "stream",
     "text": [
      "Home Savings bank, c. 1940 https://media.nga.gov/iiif/e1cd78c2-ab50-4de4-b6ce-4cb068518b44/full/!588,600/0/default.jpg\n",
      "Toy Bank Building, c. 1938 https://media.nga.gov/iiif/d5707c96-550e-4080-84cd-702cb3d3d738/full/!588,600/0/default.jpg\n"
     ]
    },
    {
     "ename": "NoSuchWindowException",
     "evalue": "Message: no such window: target window already closed\nfrom unknown error: web view not found\n  (Session info: chrome=121.0.6167.139)\nStacktrace:\n0   chromedriver                        0x000000010246e7dc chromedriver + 4040668\n1   chromedriver                        0x00000001024669e0 chromedriver + 4008416\n2   chromedriver                        0x00000001020d9870 chromedriver + 284784\n3   chromedriver                        0x00000001020b4064 chromedriver + 131172\n4   chromedriver                        0x00000001021432b0 chromedriver + 717488\n5   chromedriver                        0x000000010215675c chromedriver + 796508\n6   chromedriver                        0x000000010211174c chromedriver + 513868\n7   chromedriver                        0x0000000102112044 chromedriver + 516164\n8   chromedriver                        0x0000000102433a04 chromedriver + 3799556\n9   chromedriver                        0x0000000102437ee4 chromedriver + 3817188\n10  chromedriver                        0x000000010241c260 chromedriver + 3703392\n11  chromedriver                        0x0000000102438a2c chromedriver + 3820076\n12  chromedriver                        0x000000010240f01c chromedriver + 3649564\n13  chromedriver                        0x0000000102455e3c chromedriver + 3939900\n14  chromedriver                        0x0000000102455fb4 chromedriver + 3940276\n15  chromedriver                        0x0000000102466660 chromedriver + 4007520\n16  libsystem_pthread.dylib             0x000000019c82ffa8 _pthread_start + 148\n17  libsystem_pthread.dylib             0x000000019c82ada0 thread_start + 8\n",
     "output_type": "error",
     "traceback": [
      "\u001b[0;31m---------------------------------------------------------------------------\u001b[0m",
      "\u001b[0;31mNoSuchWindowException\u001b[0m                     Traceback (most recent call last)",
      "\u001b[1;32m/Users/shuai/web_scraping.ipynb Cell 2\u001b[0m line \u001b[0;36m6\n\u001b[1;32m     <a href='vscode-notebook-cell:/Users/shuai/web_scraping.ipynb#W1sZmlsZQ%3D%3D?line=56'>57</a>\u001b[0m     \u001b[39mprint\u001b[39m(title\u001b[39m.\u001b[39mtext, year\u001b[39m.\u001b[39mtext, img_url)\n\u001b[1;32m     <a href='vscode-notebook-cell:/Users/shuai/web_scraping.ipynb#W1sZmlsZQ%3D%3D?line=57'>58</a>\u001b[0m     writer\u001b[39m.\u001b[39mwriterow(\n\u001b[1;32m     <a href='vscode-notebook-cell:/Users/shuai/web_scraping.ipynb#W1sZmlsZQ%3D%3D?line=58'>59</a>\u001b[0m         [\n\u001b[1;32m     <a href='vscode-notebook-cell:/Users/shuai/web_scraping.ipynb#W1sZmlsZQ%3D%3D?line=59'>60</a>\u001b[0m             title\u001b[39m.\u001b[39mtext,\n\u001b[0;32m   (...)\u001b[0m\n\u001b[1;32m     <a href='vscode-notebook-cell:/Users/shuai/web_scraping.ipynb#W1sZmlsZQ%3D%3D?line=62'>63</a>\u001b[0m         ]\n\u001b[1;32m     <a href='vscode-notebook-cell:/Users/shuai/web_scraping.ipynb#W1sZmlsZQ%3D%3D?line=63'>64</a>\u001b[0m     )\n\u001b[0;32m---> <a href='vscode-notebook-cell:/Users/shuai/web_scraping.ipynb#W1sZmlsZQ%3D%3D?line=64'>65</a>\u001b[0m driver\u001b[39m.\u001b[39mexecute_script(\u001b[39m\"\u001b[39m\u001b[39mwindow.scrollTo(0, document.body.scrollHeight);\u001b[39m\u001b[39m\"\u001b[39m)\n",
      "File \u001b[0;32m~/anaconda3/lib/python3.11/site-packages/selenium/webdriver/remote/webdriver.py:407\u001b[0m, in \u001b[0;36mWebDriver.execute_script\u001b[0;34m(self, script, *args)\u001b[0m\n\u001b[1;32m    404\u001b[0m converted_args \u001b[39m=\u001b[39m \u001b[39mlist\u001b[39m(args)\n\u001b[1;32m    405\u001b[0m command \u001b[39m=\u001b[39m Command\u001b[39m.\u001b[39mW3C_EXECUTE_SCRIPT\n\u001b[0;32m--> 407\u001b[0m \u001b[39mreturn\u001b[39;00m \u001b[39mself\u001b[39m\u001b[39m.\u001b[39mexecute(command, {\u001b[39m\"\u001b[39m\u001b[39mscript\u001b[39m\u001b[39m\"\u001b[39m: script, \u001b[39m\"\u001b[39m\u001b[39margs\u001b[39m\u001b[39m\"\u001b[39m: converted_args})[\u001b[39m\"\u001b[39m\u001b[39mvalue\u001b[39m\u001b[39m\"\u001b[39m]\n",
      "File \u001b[0;32m~/anaconda3/lib/python3.11/site-packages/selenium/webdriver/remote/webdriver.py:347\u001b[0m, in \u001b[0;36mWebDriver.execute\u001b[0;34m(self, driver_command, params)\u001b[0m\n\u001b[1;32m    345\u001b[0m response \u001b[39m=\u001b[39m \u001b[39mself\u001b[39m\u001b[39m.\u001b[39mcommand_executor\u001b[39m.\u001b[39mexecute(driver_command, params)\n\u001b[1;32m    346\u001b[0m \u001b[39mif\u001b[39;00m response:\n\u001b[0;32m--> 347\u001b[0m     \u001b[39mself\u001b[39m\u001b[39m.\u001b[39merror_handler\u001b[39m.\u001b[39mcheck_response(response)\n\u001b[1;32m    348\u001b[0m     response[\u001b[39m\"\u001b[39m\u001b[39mvalue\u001b[39m\u001b[39m\"\u001b[39m] \u001b[39m=\u001b[39m \u001b[39mself\u001b[39m\u001b[39m.\u001b[39m_unwrap_value(response\u001b[39m.\u001b[39mget(\u001b[39m\"\u001b[39m\u001b[39mvalue\u001b[39m\u001b[39m\"\u001b[39m, \u001b[39mNone\u001b[39;00m))\n\u001b[1;32m    349\u001b[0m     \u001b[39mreturn\u001b[39;00m response\n",
      "File \u001b[0;32m~/anaconda3/lib/python3.11/site-packages/selenium/webdriver/remote/errorhandler.py:229\u001b[0m, in \u001b[0;36mErrorHandler.check_response\u001b[0;34m(self, response)\u001b[0m\n\u001b[1;32m    227\u001b[0m         alert_text \u001b[39m=\u001b[39m value[\u001b[39m\"\u001b[39m\u001b[39malert\u001b[39m\u001b[39m\"\u001b[39m]\u001b[39m.\u001b[39mget(\u001b[39m\"\u001b[39m\u001b[39mtext\u001b[39m\u001b[39m\"\u001b[39m)\n\u001b[1;32m    228\u001b[0m     \u001b[39mraise\u001b[39;00m exception_class(message, screen, stacktrace, alert_text)  \u001b[39m# type: ignore[call-arg]  # mypy is not smart enough here\u001b[39;00m\n\u001b[0;32m--> 229\u001b[0m \u001b[39mraise\u001b[39;00m exception_class(message, screen, stacktrace)\n",
      "\u001b[0;31mNoSuchWindowException\u001b[0m: Message: no such window: target window already closed\nfrom unknown error: web view not found\n  (Session info: chrome=121.0.6167.139)\nStacktrace:\n0   chromedriver                        0x000000010246e7dc chromedriver + 4040668\n1   chromedriver                        0x00000001024669e0 chromedriver + 4008416\n2   chromedriver                        0x00000001020d9870 chromedriver + 284784\n3   chromedriver                        0x00000001020b4064 chromedriver + 131172\n4   chromedriver                        0x00000001021432b0 chromedriver + 717488\n5   chromedriver                        0x000000010215675c chromedriver + 796508\n6   chromedriver                        0x000000010211174c chromedriver + 513868\n7   chromedriver                        0x0000000102112044 chromedriver + 516164\n8   chromedriver                        0x0000000102433a04 chromedriver + 3799556\n9   chromedriver                        0x0000000102437ee4 chromedriver + 3817188\n10  chromedriver                        0x000000010241c260 chromedriver + 3703392\n11  chromedriver                        0x0000000102438a2c chromedriver + 3820076\n12  chromedriver                        0x000000010240f01c chromedriver + 3649564\n13  chromedriver                        0x0000000102455e3c chromedriver + 3939900\n14  chromedriver                        0x0000000102455fb4 chromedriver + 3940276\n15  chromedriver                        0x0000000102466660 chromedriver + 4007520\n16  libsystem_pthread.dylib             0x000000019c82ffa8 _pthread_start + 148\n17  libsystem_pthread.dylib             0x000000019c82ada0 thread_start + 8\n"
     ]
    }
   ],
   "source": [
    "from bs4 import BeautifulSoup\n",
    "import pandas as pd\n",
    "import numpy as np\n",
    "import requests\n",
    "import matplotlib.pyplot as plt\n",
    "\n",
    "from selenium import webdriver\n",
    "from selenium.webdriver.common.by import By\n",
    "from selenium.webdriver.support.ui import WebDriverWait\n",
    "from selenium.webdriver.support import expected_conditions as EC\n",
    "import os\n",
    "import csv\n",
    "import time\n",
    "driver = webdriver.Chrome()\n",
    "max_mum = 57679\n",
    "csv_filename = 'arts_info3.csv'\n",
    "# url = \"https://www.nga.gov/collection/art-object-page.43626.html”\n",
    "with open(csv_filename, 'w', newline='', encoding='utf-8') as csvfile:\n",
    "    writer = csv.writer(csvfile)\n",
    "    writer.writerow(\n",
    "        [\n",
    "            'title',\n",
    "            'year',\n",
    "            'link'\n",
    "        ]\n",
    "    )\n",
    "    for i in range(20700, 50000, 5):\n",
    "        url = 'https://www.nga.gov/collection/art-object-page.' + str(i) + '.html'\n",
    "        driver.get(url)\n",
    "        try:\n",
    "            xpath = '/html/body/div[2]/div[1]/div[2]/div[1]/div[2]/div[1]/div/div/div[1]/div[1]/ul[1]/li/span/img'\n",
    "            # img_url = driver.find_elements(\"xpath”, xpath)\n",
    "            img_url = (\n",
    "                WebDriverWait(driver, 2)\n",
    "                .until(EC.presence_of_element_located((By.XPATH, xpath)))\n",
    "            )\n",
    "            img_url = img_url.get_attribute('src')\n",
    "        except:\n",
    "            img_url = ''\n",
    "        try:\n",
    "            xpath = '/html/body/div[2]/div[1]/div[2]/div[1]/div[2]/div[1]/div/div/div[2]/h1/span'\n",
    "            year = (\n",
    "                WebDriverWait(driver, 2)\n",
    "                .until(EC.presence_of_element_located((By.XPATH, xpath)))\n",
    "            )\n",
    "        except:\n",
    "            year = ''\n",
    "        try:\n",
    "            xpath = '/html/body/div[2]/div[1]/div[2]/div[1]/div[2]/div[1]/div/div/div[2]/h1/em'\n",
    "            title = (\n",
    "                WebDriverWait(driver, 2)\n",
    "                .until(EC.presence_of_element_located((By.XPATH, xpath)))\n",
    "            )\n",
    "        except:\n",
    "            title = ''\n",
    "        if title and year and img_url:\n",
    "            print(title.text, year.text, img_url)\n",
    "            writer.writerow(\n",
    "                [\n",
    "                    title.text,\n",
    "                    year.text,\n",
    "                    img_url \n",
    "                ]\n",
    "            )\n",
    "        driver.execute_script(\"window.scrollTo(0, document.body.scrollHeight);\")"
   ]
  }
 ],
 "metadata": {
  "kernelspec": {
   "display_name": "base",
   "language": "python",
   "name": "python3"
  },
  "language_info": {
   "codemirror_mode": {
    "name": "ipython",
    "version": 3
   },
   "file_extension": ".py",
   "mimetype": "text/x-python",
   "name": "python",
   "nbconvert_exporter": "python",
   "pygments_lexer": "ipython3",
   "version": "3.11.5"
  }
 },
 "nbformat": 4,
 "nbformat_minor": 2
}
